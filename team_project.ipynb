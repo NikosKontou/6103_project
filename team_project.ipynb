{
 "cells": [
  {
   "cell_type": "markdown",
   "id": "88543ea6-0abe-48f1-b8ed-45d494199fd3",
   "metadata": {},
   "source": [
    "# 6103 Tean project"
   ]
  },
  {
   "cell_type": "markdown",
   "id": "70cb7333-296b-4015-accc-a539b1888f83",
   "metadata": {},
   "source": [
    "## Drouvas Panagiotis, Dimos Giorgos, Kontoudakis Nikos, Vergas Panagiotis"
   ]
  },
  {
   "cell_type": "code",
   "execution_count": 7,
   "id": "752994db-4e50-4050-b013-77866a9c314e",
   "metadata": {},
   "outputs": [],
   "source": [
    "#library import\n",
    "import pandas as pd\n",
    "import numpy as np\n",
    "from sklearn.model_selection import train_test_split"
   ]
  },
  {
   "cell_type": "markdown",
   "id": "1ce2d07f-36b4-4b09-bdd1-677b8849c0f8",
   "metadata": {},
   "source": [
    "### Part 1."
   ]
  },
  {
   "cell_type": "code",
   "execution_count": 8,
   "id": "43614451-1f17-4959-bdd9-4b58dacb3e83",
   "metadata": {},
   "outputs": [],
   "source": [
    "# specifically for part 1\n",
    "from sklearn.cluster import DBSCAN\n",
    "from sklearn import metrics\n",
    "from sklearn.metrics import silhouette_samples\n",
    "from sklearn.preprocessing import MinMaxScaler\n",
    "from sklearn.decomposition import PCA\n",
    "\n",
    "#future selection\n",
    "from sklearn.feature_selection import mutual_info_classif"
   ]
  },
  {
   "cell_type": "code",
   "execution_count": 9,
   "id": "f8fa0559-502c-4570-a9d1-6a80a6b12bc3",
   "metadata": {},
   "outputs": [],
   "source": [
    "#insert the data\n",
    "\n",
    "# the names might be icorect\n",
    "collumnNames =  [\n",
    "    \"duration\", \"protocol_type\", \"service\", \"flag\", \"src_bytes\", \"dst_bytes\", \"land\", \n",
    "    \"wrong_fragment\", \"urgent\", \"hot\", \"num_failed_logins\", \"logged_in\", \n",
    "    \"num_compromised\", \"root_shell\", \"su_attempted\", \"num_root\", \"num_file_creations\", \n",
    "    \"num_shells\", \"num_access_files\", \"num_outbound_cmds\", \"is_host_login\", \n",
    "    \"is_guest_login\", \"count\", \"srv_count\", \"serror_rate\", \"srv_serror_rate\", \n",
    "    \"rerror_rate\", \"srv_rerror_rate\", \"same_srv_rate\", \"diff_srv_rate\", \n",
    "    \"srv_diff_host_rate\", \"dst_host_count\", \"dst_host_srv_count\", \"dst_host_same_srv_rate\", \n",
    "    \"dst_host_diff_srv_rate\", \"dst_host_same_src_port_rate\", \"dst_host_srv_diff_host_rate\", \n",
    "    \"dst_host_serror_rate\", \"dst_host_srv_serror_rate\", \"dst_host_rerror_rate\", \n",
    "    \"dst_host_srv_rerror_rate\", \"label\"\n",
    "]\n",
    "\n",
    "allData =pd.read_csv('kddcup.data_10_percent', header=None, names = collumnNames)\n",
    "y_labels = allData.iloc[:, -1]"
   ]
  },
  {
   "cell_type": "code",
   "execution_count": 12,
   "id": "6940e7b0-f235-4f03-99e0-ac88f5732eab",
   "metadata": {},
   "outputs": [],
   "source": [
    "# one hot encoding\n",
    "data = pd.get_dummies(allData.iloc[:, 0:41], columns=[\"protocol_type\", \"service\", \"flag\"])\n",
    "\n",
    "# normalize\n",
    "scaler = MinMaxScaler()\n",
    "data = scaler.fit_transform(data)\n",
    "\n",
    "# reduce dimensions\n",
    "pca = PCA(n_components=14)\n",
    "data = pca.fit_transform(data)\n",
    "\n",
    "X_train, X_test, y_train, y_test = train_test_split(data, y_labels, test_size=0.85, random_state=13)"
   ]
  },
  {
   "cell_type": "code",
   "execution_count": 5,
   "id": "f74b9bf5-5e89-4eca-b282-843bfc7f5998",
   "metadata": {},
   "outputs": [
    {
     "name": "stdout",
     "output_type": "stream",
     "text": [
      "Information= [1.03548534 1.02495383 0.9785964  1.00465346 0.92187281 0.92294568\n",
      " 0.9069116  0.94811116 0.91220932 0.89139552 0.82464304 0.83340694\n",
      " 0.85389313 0.84791029]\n"
     ]
    }
   ],
   "source": [
    "information=mutual_info_classif(X_train,y_train)\n",
    "print('Information=',information)"
   ]
  },
  {
   "cell_type": "markdown",
   "id": "7a8dbe8d-f7c5-411f-9739-30d0d63ef6d6",
   "metadata": {},
   "source": [
    "## DBSCAN"
   ]
  },
  {
   "cell_type": "code",
   "execution_count": 13,
   "id": "6a2efb91-318b-4bce-8e33-5fc5060026ed",
   "metadata": {},
   "outputs": [
    {
     "name": "stdout",
     "output_type": "stream",
     "text": [
      "74103\n"
     ]
    }
   ],
   "source": [
    "evaluationMetricsDBSCAN = []\n",
    "data = X_train.copy()\n",
    "print(len(data))\n",
    "# for i in np.arange(2, 20, 1):\n",
    "#     # for x in [0.03, 0.05, 0.07, 0.1, 0.2, 0.5, 1, 2]:  \n",
    "#     for x in [1, 2, 5, 7, 9]:  \n",
    "\n",
    "# db = DBSCAN(eps=x, min_samples=i).fit(X_train)\n",
    "\n",
    "db = DBSCAN().fit(data)"
   ]
  },
  {
   "cell_type": "code",
   "execution_count": null,
   "id": "3cca854c-e3e6-4523-acbc-6a5aab5536cc",
   "metadata": {},
   "outputs": [],
   "source": [
    "\n",
    "\n",
    "# core_samples_mask = np.zeros_like(db.labels_, dtype=bool)\n",
    "# core_samples_mask[db.core_sample_indices_] = True\n",
    "labels = db.labels_\n",
    "# n_clusters_ = len(set(labels)) - (1 if -1 in labels else 0)\n",
    "# # if(len(set(labels))> 1 and n_clusters_ > 1):\n",
    "silhouette_values = silhouette_samples(data, y_train)\n",
    "# # evaluationMetricsDBSCAN.append({'min_samples': i, 'eps': x, 'silhouette': round(np.mean(silhouette_values), 3), 'expected number of clusters': n_clusters_})\n",
    "print('silhouette: ', round(np.mean(silhouette_values), 3))\n",
    "            \n",
    "# metricsDF = pd.DataFrame(evaluationMetricsDBSCAN)\n",
    "# sortedMetrics= metricsDF.sort_values(by=['silhouette'], ascending= False)\n",
    "# sortedMetrics[:4]"
   ]
  }
 ],
 "metadata": {
  "kernelspec": {
   "display_name": "Python 3 (ipykernel)",
   "language": "python",
   "name": "python3"
  },
  "language_info": {
   "codemirror_mode": {
    "name": "ipython",
    "version": 3
   },
   "file_extension": ".py",
   "mimetype": "text/x-python",
   "name": "python",
   "nbconvert_exporter": "python",
   "pygments_lexer": "ipython3",
   "version": "3.13.2"
  }
 },
 "nbformat": 4,
 "nbformat_minor": 5
}
